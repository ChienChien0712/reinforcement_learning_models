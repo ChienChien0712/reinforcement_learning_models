{
 "cells": [
  {
   "cell_type": "code",
   "execution_count": null,
   "id": "130de2c9",
   "metadata": {},
   "outputs": [
    {
     "name": "stderr",
     "output_type": "stream",
     "text": [
      "2021-11-08 09:32:23,768 : env: MsPacman-v4\n",
      "2021-11-08 09:32:23,772 : env_config: config.json\n",
      "2021-11-08 09:32:23,773 : num_episodes: 100\n",
      "2021-11-08 09:32:23,774 : load_model_dir: trained_models/\n",
      "2021-11-08 09:32:23,776 : log_dir: logs/\n",
      "2021-11-08 09:32:23,777 : render: True\n",
      "2021-11-08 09:32:23,778 : render_freq: 1\n",
      "2021-11-08 09:32:23,778 : max_episode_length: 10000\n",
      "2021-11-08 09:32:23,780 : gpu_id: -1\n",
      "2021-11-08 09:32:23,781 : skip_rate: 4\n",
      "2021-11-08 09:32:23,782 : seed: 1\n",
      "2021-11-08 09:32:23,783 : new_gym_eval: True\n",
      "C:\\Users\\chienhua\\anaconda3\\lib\\site-packages\\pyglet\\image\\codecs\\wic.py:289: UserWarning: [WinError -2147417850] 執行緒模式設定後就不能再變更它。\n",
      "  warnings.warn(str(err))\n",
      "2021-11-08 09:32:50,474 : Time 00h 00m 26s, episode reward 7340.0, episode length 1501, reward mean 7340.0000\n",
      "2021-11-08 09:33:15,310 : Time 00h 00m 51s, episode reward 3050.0, episode length 1560, reward mean 5195.0000\n"
     ]
    }
   ],
   "source": [
    "%run gym_eval.py "
   ]
  },
  {
   "cell_type": "code",
   "execution_count": null,
   "id": "b4bb9ada",
   "metadata": {},
   "outputs": [],
   "source": []
  },
  {
   "cell_type": "code",
   "execution_count": null,
   "id": "018b199c",
   "metadata": {},
   "outputs": [],
   "source": []
  }
 ],
 "metadata": {
  "kernelspec": {
   "display_name": "Python 3",
   "language": "python",
   "name": "python3"
  },
  "language_info": {
   "codemirror_mode": {
    "name": "ipython",
    "version": 3
   },
   "file_extension": ".py",
   "mimetype": "text/x-python",
   "name": "python",
   "nbconvert_exporter": "python",
   "pygments_lexer": "ipython3",
   "version": "3.8.8"
  }
 },
 "nbformat": 4,
 "nbformat_minor": 5
}
